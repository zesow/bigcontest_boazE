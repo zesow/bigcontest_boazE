{
 "cells": [
  {
   "cell_type": "code",
   "execution_count": 3,
   "metadata": {},
   "outputs": [],
   "source": [
    "from urllib.request import urlopen\n",
    "from bs4 import BeautifulSoup\n",
    "import csv"
   ]
  },
  {
   "cell_type": "markdown",
   "metadata": {},
   "source": [
    "## csv 파일 (영화제목들) 불러와서 리스트로 뽑아내기"
   ]
  },
  {
   "cell_type": "code",
   "execution_count": 12,
   "metadata": {},
   "outputs": [
    {
     "name": "stdout",
     "output_type": "stream",
     "text": [
      "title1\n",
      "명량\n",
      "국제시장\n",
      "아바타\n",
      "베테랑\n",
      "괴물\n",
      "도둑들\n",
      "7번방의 선물\n",
      "암살\n",
      "광해, 왕이 된 남자\n",
      "왕의 남자\n",
      "부산행\n",
      "해운대\n",
      "변호인\n",
      "어벤져스: 에이지 오브 울트론\n",
      "겨울왕국\n",
      "인터스텔라\n",
      "검사외전\n",
      "관상\n",
      "아이언맨 3\n"
     ]
    }
   ],
   "source": [
    "movie_lists = []\n",
    "f = open('movie_name (2).csv', 'r', encoding='euc-kr')\n",
    "rdr = csv.reader(f)\n",
    "for line in rdr:\n",
    "    print(line[0])\n",
    "    movie_lists.append(line[0])\n",
    "f.close()    "
   ]
  },
  {
   "cell_type": "code",
   "execution_count": 15,
   "metadata": {},
   "outputs": [
    {
     "data": {
      "text/plain": [
       "['국제시장',\n",
       " '아바타',\n",
       " '베테랑',\n",
       " '괴물',\n",
       " '도둑들',\n",
       " '7번방의 선물',\n",
       " '암살',\n",
       " '광해, 왕이 된 남자',\n",
       " '왕의 남자',\n",
       " '부산행',\n",
       " '해운대',\n",
       " '변호인',\n",
       " '어벤져스: 에이지 오브 울트론',\n",
       " '겨울왕국',\n",
       " '인터스텔라',\n",
       " '검사외전',\n",
       " '관상',\n",
       " '아이언맨 3']"
      ]
     },
     "execution_count": 15,
     "metadata": {},
     "output_type": "execute_result"
    }
   ],
   "source": [
    "movie_lists = movie_lists[1:]\n",
    "movie_lists"
   ]
  },
  {
   "cell_type": "markdown",
   "metadata": {},
   "source": [
    "## 영화 하나씩 돌면서 처리해주기"
   ]
  },
  {
   "cell_type": "code",
   "execution_count": null,
   "metadata": {},
   "outputs": [],
   "source": [
    "for movie in movie_lists:\n",
    "    "
   ]
  }
 ],
 "metadata": {
  "kernelspec": {
   "display_name": "Python 3",
   "language": "python",
   "name": "python3"
  },
  "language_info": {
   "codemirror_mode": {
    "name": "ipython",
    "version": 3
   },
   "file_extension": ".py",
   "mimetype": "text/x-python",
   "name": "python",
   "nbconvert_exporter": "python",
   "pygments_lexer": "ipython3",
   "version": "3.6.0"
  }
 },
 "nbformat": 4,
 "nbformat_minor": 2
}
